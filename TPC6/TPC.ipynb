{
 "cells": [
  {
   "cell_type": "markdown",
   "metadata": {},
   "source": [
    "### Exercício 1: Processando um dataset em CSV\n",
    "\n",
    "Escreve um programa que lê o dataset `obras.csv` e realiza as seguintes tarefas (tenta isolar cada tarefa numa função):\n",
    "* Carrega o dataset para uma estrutura de dados pensada por ti;\n",
    "* Quantas obras existem catalogadas no dataset?\n",
    "* Imprime no monitor uma tabela com o título da obra, a sua descrição, o seu compositor e ano de criação;\n",
    "* Produz uma lista de tuplos `(título, ano)` ordenada alfabeticamente por título;\n",
    "* Produz uma lista de tuplos `(título, ano)` ordenada crescentemente por ano;\n",
    "* Produz uma lista ordenada dos compositores;\n",
    "* Calcula uma distribuição das obras por período;\n",
    "* Calcula uma distribuição das obras por ano;\n",
    "* Calcula uma distribuição das obras por compositor;\n",
    "* Especifica uma função que recebendo uma distribuição desenha o seu gráfico. Aplica-a às distribuições anteriores;\n",
    "* Problema da inversão estrutural: calcula uma estrutura de dados que corresponde a uma lista dos compositores em que cada compositor tem a ele associado uma lista dos títulos das obras que compôs;\n",
    "* Cria uma função de visualização para estrutura de dados calculada na alínea anterior.\n"
   ]
  },
  {
   "cell_type": "markdown",
   "metadata": {},
   "source": [
    "* Carrega o dataset para uma estrutura de dados pensada por ti;"
   ]
  },
  {
   "cell_type": "code",
   "execution_count": 1,
   "metadata": {},
   "outputs": [],
   "source": [
    "import aula6\n",
    "obras = aula6.lerObras()"
   ]
  },
  {
   "cell_type": "markdown",
   "metadata": {},
   "source": [
    "Quantas obras existem catalogadas no dataset?"
   ]
  },
  {
   "cell_type": "code",
   "execution_count": null,
   "metadata": {},
   "outputs": [],
   "source": [
    "aula6.contaobras(obras)"
   ]
  },
  {
   "cell_type": "markdown",
   "metadata": {},
   "source": [
    "* Imprime no monitor uma tabela com o título da obra, a sua descrição, o seu compositor e ano de criação;\n"
   ]
  },
  {
   "cell_type": "code",
   "execution_count": null,
   "metadata": {},
   "outputs": [],
   "source": [
    "aula6.imprimeObras(obras)"
   ]
  },
  {
   "cell_type": "markdown",
   "metadata": {},
   "source": [
    "* Produz uma lista de tuplos `(título, ano)` ordenada alfabeticamente por título;"
   ]
  },
  {
   "cell_type": "code",
   "execution_count": null,
   "metadata": {},
   "outputs": [],
   "source": [
    "aula6.ordenarnometuplo(obras)"
   ]
  },
  {
   "cell_type": "markdown",
   "metadata": {},
   "source": [
    "* Produz uma lista de tuplos `(título, ano)` ordenada crescentemente por ano;\n"
   ]
  },
  {
   "cell_type": "code",
   "execution_count": null,
   "metadata": {},
   "outputs": [],
   "source": [
    "aula6.ordenaranotuplo(obras)"
   ]
  },
  {
   "cell_type": "markdown",
   "metadata": {},
   "source": [
    "* Produz uma lista ordenada dos compositores;\n"
   ]
  },
  {
   "cell_type": "code",
   "execution_count": null,
   "metadata": {},
   "outputs": [],
   "source": [
    "aula6.ordenadacompositores(obras)"
   ]
  },
  {
   "cell_type": "markdown",
   "metadata": {},
   "source": [
    "* Calcula uma distribuição das obras por período;\n"
   ]
  },
  {
   "cell_type": "code",
   "execution_count": null,
   "metadata": {},
   "outputs": [],
   "source": [
    "distPeriodo = aula6.distPeriodo(obras)\n",
    "print(distPeriodo)"
   ]
  },
  {
   "cell_type": "markdown",
   "metadata": {},
   "source": [
    "* Calcula uma distribuição das obras por ano;\n"
   ]
  },
  {
   "cell_type": "code",
   "execution_count": null,
   "metadata": {},
   "outputs": [],
   "source": [
    "distAno = aula6.distAno (obras)\n",
    "print(distAno)"
   ]
  },
  {
   "cell_type": "markdown",
   "metadata": {},
   "source": [
    "* Calcula uma distribuição das obras por compositor;\n"
   ]
  },
  {
   "cell_type": "code",
   "execution_count": null,
   "metadata": {},
   "outputs": [],
   "source": [
    "distCompositor = aula6.distCompositor (obras)\n",
    "print(distCompositor)"
   ]
  },
  {
   "cell_type": "markdown",
   "metadata": {},
   "source": [
    "* Especifica uma função que recebendo uma distribuição desenha o seu gráfico. Aplica-a às distribuições anteriores;\n"
   ]
  },
  {
   "cell_type": "code",
   "execution_count": null,
   "metadata": {},
   "outputs": [],
   "source": [
    "aula6.plotDistrib(distAno)"
   ]
  },
  {
   "cell_type": "code",
   "execution_count": null,
   "metadata": {},
   "outputs": [],
   "source": [
    "aula6.plotDistrib(distPeriodo)"
   ]
  },
  {
   "cell_type": "code",
   "execution_count": null,
   "metadata": {},
   "outputs": [],
   "source": [
    "aula6.plotDistrib (distCompositor)"
   ]
  },
  {
   "cell_type": "markdown",
   "metadata": {},
   "source": [
    "* Problema da inversão estrutural: calcula uma estrutura de dados que corresponde a uma lista dos compositores em que cada compositor tem a ele associado uma lista dos títulos das obras que compôs;\n"
   ]
  },
  {
   "cell_type": "code",
   "execution_count": null,
   "metadata": {},
   "outputs": [],
   "source": [
    "inversao = aula6.composEobras(obras)\n",
    "print(inversao)"
   ]
  },
  {
   "cell_type": "markdown",
   "metadata": {},
   "source": [
    "* Cria uma função de visualização para estrutura de dados calculada na alínea anterior.\n"
   ]
  },
  {
   "cell_type": "code",
   "execution_count": null,
   "metadata": {},
   "outputs": [],
   "source": [
    "aula6.visualizacao(inversao)"
   ]
  }
 ],
 "metadata": {
  "kernelspec": {
   "display_name": "Python 3.10.7 64-bit",
   "language": "python",
   "name": "python3"
  },
  "language_info": {
   "codemirror_mode": {
    "name": "ipython",
    "version": 3
   },
   "file_extension": ".py",
   "mimetype": "text/x-python",
   "name": "python",
   "nbconvert_exporter": "python",
   "pygments_lexer": "ipython3",
   "version": "3.10.7"
  },
  "orig_nbformat": 4,
  "vscode": {
   "interpreter": {
    "hash": "58837b1b657ea91009af8409fc244ae3b5ccf93ea980d6fb6b80adc5f697f4cc"
   }
  }
 },
 "nbformat": 4,
 "nbformat_minor": 2
}
