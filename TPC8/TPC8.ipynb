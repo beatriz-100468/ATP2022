{
 "cells": [
  {
   "cell_type": "markdown",
   "metadata": {},
   "source": [
    "### tpc1.a) Recebe duas strings, _s1_ e _s2_, e retorna o comprimento da substring inicial de _s1_ que não contem nenhum caráter de _s2_:"
   ]
  },
  {
   "cell_type": "code",
   "execution_count": null,
   "metadata": {},
   "outputs": [],
   "source": [
    "def inicialDiferente(s1, s2):\n",
    "    res = 0\n",
    "    for palavra in s1:\n",
    "        palavra = palavra.lower()\n",
    "        for letra in palavra:\n",
    "            if letra not in s2:\n",
    "                res = res + 1\n",
    "    return res\n",
    "\n",
    "inicialDiferente(\"Pega numa folha de papel e vê se consegues 'desdobrar-te' deste problema.\", \"Só é preciso uma pequena quantidade.\")"
   ]
  },
  {
   "cell_type": "markdown",
   "metadata": {},
   "source": [
    "### tpc1.b) Recebe um parâmetro _n_ e lê _n_ números inteiros; no fim retorna quantos dos números lidos são superiores à média dos números lidos:"
   ]
  },
  {
   "cell_type": "code",
   "execution_count": null,
   "metadata": {},
   "outputs": [],
   "source": [
    "def acimaMedia(n):\n",
    "    res = 0\n",
    "    lista = []\n",
    "    soma = 0\n",
    "    for num in range(n):\n",
    "        x = int(input(\"Coloque o \"+ str(num+1) +\" número\"))\n",
    "        lista.append(x)\n",
    "        soma =soma + x\n",
    "    media = soma/n\n",
    "    for num in lista:\n",
    "        if num > media:\n",
    "            res =res + 1\n",
    "    return res"
   ]
  },
  {
   "cell_type": "markdown",
   "metadata": {},
   "source": [
    "### tpc1.c) Faz o merge de duas listas ordenadas, retornando uma lista ordenada com os elementos das duas listas (__não podes usar nenhuma função de ordenação do Python__):"
   ]
  },
  {
   "cell_type": "code",
   "execution_count": null,
   "metadata": {},
   "outputs": [],
   "source": [
    "def merge(l1, l2):\n",
    "    res = l1\n",
    "    for numero in l2:\n",
    "        if numero not in res:\n",
    "            res.append(numero)\n",
    "    for i in range(len(res)):\n",
    "        for j in range(i + 1, len(res)):\n",
    "            if res[i] > res[j]:\n",
    "                res[i], res[j] = res[j], res[i]\n",
    "    return res"
   ]
  },
  {
   "cell_type": "markdown",
   "metadata": {},
   "source": [
    "### tpc1.d) Recebe o nome de dois ficheiros de texto, _f1_ e _f2_, e indica se são iguais (__True__) no seu conteúdo ou se são diferentes (__False__):"
   ]
  },
  {
   "cell_type": "code",
   "execution_count": null,
   "metadata": {},
   "outputs": [],
   "source": [
    "def figuais(f1, f2):\n",
    "    file1 = open(f1)\n",
    "    file2 = open(f2)\n",
    "    for line in file1:\n",
    "        if line in file2:\n",
    "            res = True\n",
    "        else:\n",
    "            res = False\n",
    "    file1.close()\n",
    "    file2.close()\n",
    "    return res"
   ]
  },
  {
   "cell_type": "markdown",
   "metadata": {},
   "source": [
    "## Questão 2: Gestão de uma Cinemateca\n",
    "\n",
    "Analise as seguintes estruturas de dados que materializam o modelo de uma cinemateca:"
   ]
  },
  {
   "cell_type": "code",
   "execution_count": null,
   "metadata": {},
   "outputs": [],
   "source": [
    "# Cinemateca = [Filme]\n",
    "# Pub = (Título, Ano, Elenco, Géneros)\n",
    "# Título = String\n",
    "# Ano = Int\n",
    "# Elenco = [Ator]\n",
    "# Ator = String\n",
    "# Géneros = [Género]\n",
    "# Género = String\n",
    "Filme1 = (\"Meet the Parents\", 2000, [\"Ben Stiller\",\"Robert De Niro\",\n",
    "      \"Blythe Danner\",\"Teri Polo\",\"Owen Wilson\"], [\"Comedy\", \"Drama\"])\n",
    "Filme2 = (\"Men of Honor\", 2000, [\"Robert De Niro\",\"Cuba Gooding, Jr.\",\n",
    "      \"Charlize Theron\"], [\"Biography\", \"Drama\", \"Thriller\"])\n",
    "Filme3 = (\"Analyze That\", 2002, [\"Robert De Niro\",\"Billy Crystal\",\n",
    "      \"Lisa Kudrow\"], [\"Comedy\"])\n",
    "CineUM = [Filme1, Filme2, Filme3]"
   ]
  },
  {
   "cell_type": "markdown",
   "metadata": {},
   "source": [
    "### tpc2.a)  Devolve uma lista dos atores participantes nos filmes armazenados, ordenada alfabeticamente e sem repetições:"
   ]
  },
  {
   "cell_type": "code",
   "execution_count": null,
   "metadata": {},
   "outputs": [],
   "source": [
    "def atores(cinemateca):\n",
    "    lista2 = []\n",
    "    for filme in cinemateca:\n",
    "        titulo, ano, elenco, genero = filme\n",
    "        for ator in elenco:\n",
    "            lista2.append(ator)\n",
    "    lista2.sort()\n",
    "    return lista2\n",
    "\n",
    "print(atores(CineUM))"
   ]
  },
  {
   "cell_type": "markdown",
   "metadata": {},
   "source": [
    "### tpc2.b)  Devolve uma lista de todos os títulos dos filmes, em ordem alfabética, e de um determinado género passado como argumento:"
   ]
  },
  {
   "cell_type": "code",
   "execution_count": null,
   "metadata": {},
   "outputs": [],
   "source": [
    "def listarPorGenero(cinemateca, genero):\n",
    "    res=[]\n",
    "    for filme in cinemateca:\n",
    "        titulo, ano, elenco, genero = filme\n",
    "        for i in genero:\n",
    "            if i == genero:\n",
    "                res.append(titulo)\n",
    "    res.sort()\n",
    "    return res\n",
    "    "
   ]
  },
  {
   "cell_type": "markdown",
   "metadata": {},
   "source": [
    "### tpc2.c)  Devolve o título do filme com o maior elenco:"
   ]
  },
  {
   "cell_type": "code",
   "execution_count": null,
   "metadata": {},
   "outputs": [],
   "source": [
    "def maiorElenco(cinemateca):\n",
    "    dic0 = {}\n",
    "    for filme in cinemateca:\n",
    "        titulo, ano, elenco, genero = filme\n",
    "        for ator in elenco:\n",
    "            if titulo in dic0:\n",
    "                dic0[titulo] = dic0[titulo] + 1\n",
    "            else:\n",
    "                dic0[titulo] = 1\n",
    "    maximo = max(dic0, key=dic0.get)\n",
    "    return maximo"
   ]
  },
  {
   "cell_type": "markdown",
   "metadata": {},
   "source": [
    "### tpc2.d)  Calcula a distribuição de filmes por Género:"
   ]
  },
  {
   "cell_type": "code",
   "execution_count": null,
   "metadata": {},
   "outputs": [],
   "source": [
    "def filmePorGenero(cinemateca):\n",
    "    gTotal = [] \n",
    "    for filme in cinemateca:\n",
    "        titulo, ano, elenco, genero = filme\n",
    "        for i in genero:\n",
    "            if i not in gTotal:\n",
    "                gTotal.append(i)\n",
    "    distrib = {}.fromkeys(gTotal, 0)\n",
    "    \n",
    "    for filme in cinemateca:\n",
    "        titulo, ano, elenco, genero = filme\n",
    "        for i in genero:\n",
    "            if i in distrib.keys():\n",
    "                distrib[i] += 1\n",
    "            else:\n",
    "                distrib[i] = 1    \n",
    "    return distrib\n",
    "\n",
    "filmePorGenero(CineUM)"
   ]
  },
  {
   "cell_type": "markdown",
   "metadata": {},
   "source": [
    "### tpc2.e)  Represente num gráfico de barras a distribuição calculada na alínea anterior (pode usar o material que entender das aulas):"
   ]
  },
  {
   "cell_type": "code",
   "execution_count": null,
   "metadata": {},
   "outputs": [],
   "source": [
    "import matplotlib.pyplot as plt\n",
    "\n",
    "def graph(distrib):\n",
    "    fig1 = plt.figure(figsize = (10, 5))\n",
    "    plt.bar(distrib.keys(), distrib.values(), color= \"blue\", width= 0.5)\n",
    "    plt.xticks([x for x in range(0, len(distrib.keys()))], distrib.keys())\n",
    "    plt.title(\"Distribuição\")\n",
    "    plt.ylabel(\"Numero de Filmes\")\n",
    "    plt.show()\n",
    "    return\n",
    "\n",
    "graph(filmePorGenero(CineUM))"
   ]
  }
 ],
 "metadata": {
  "kernelspec": {
   "display_name": "Python 3",
   "language": "python",
   "name": "python3"
  },
  "language_info": {
   "name": "python",
   "version": "3.10.7 (tags/v3.10.7:6cc6b13, Sep  5 2022, 14:08:36) [MSC v.1933 64 bit (AMD64)]"
  },
  "orig_nbformat": 4,
  "vscode": {
   "interpreter": {
    "hash": "58837b1b657ea91009af8409fc244ae3b5ccf93ea980d6fb6b80adc5f697f4cc"
   }
  }
 },
 "nbformat": 4,
 "nbformat_minor": 2
}
