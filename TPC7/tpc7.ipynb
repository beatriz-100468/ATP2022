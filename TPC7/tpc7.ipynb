{
 "cells": [
  {
   "cell_type": "code",
   "execution_count": null,
   "metadata": {},
   "outputs": [],
   "source": [
    "import TPC7\n",
    "\n",
    "TPC7.menu()\n",
    "x = TPC7.readataset()\n",
    "lermedia = TPC7.media(x)\n",
    "\n",
    "\n",
    "pergunta = int(input(\"Qual a função que pretende realizar?\"))\n",
    "\n",
    "while pergunta !=0:\n",
    "    if pergunta ==1:\n",
    "        TPC7.menu()\n",
    "    if pergunta ==2:\n",
    "        print(x)\n",
    "    if pergunta ==3:\n",
    "        for aluno in lermedia:\n",
    "            nome = aluno[\"nome\"]\n",
    "            media = aluno[\"media\"]\n",
    "            print(f\"{nome} | {media}\")\n",
    "    if pergunta ==4:\n",
    "        escaloes = TPC7.escaloesNotas(lermedia)\n",
    "        for aluno in escaloes:\n",
    "            nome = aluno[\"nome\"]\n",
    "            media =aluno[\"media\"]\n",
    "            escalao = aluno[\"escalão\"]\n",
    "            print(f\"{nome} | {media} | {escalao}\")\n",
    "    if pergunta==5:\n",
    "        print(TPC7.distrCurso (x))\n",
    "    if pergunta ==6:\n",
    "        print(TPC7.distriEscalao(TPC7.escaloesNotas(x)))\n",
    "    if pergunta ==7:\n",
    "        print(TPC7.graficoBarras(TPC7.distrCurso(x)))\n",
    "        print(TPC7.graficoLinha(TPC7.distrCurso(x)))\n",
    "    if pergunta ==8:\n",
    "        print(TPC7.graficoBarras(TPC7.distriEscalao(TPC7.escaloesNotas(x))))\n",
    "        print(TPC7.graficoLinha(TPC7.distriEscalao(TPC7.escaloesNotas(x))))\n",
    "\n",
    "\n",
    "    pergunta = int(input(\"Qual a função que pretende realizar?\"))\n",
    "\n"
   ]
  }
 ],
 "metadata": {
  "kernelspec": {
   "display_name": "Python 3.10.7 64-bit",
   "language": "python",
   "name": "python3"
  },
  "language_info": {
   "name": "python",
   "version": "3.10.7"
  },
  "orig_nbformat": 4,
  "vscode": {
   "interpreter": {
    "hash": "58837b1b657ea91009af8409fc244ae3b5ccf93ea980d6fb6b80adc5f697f4cc"
   }
  }
 },
 "nbformat": 4,
 "nbformat_minor": 2
}
